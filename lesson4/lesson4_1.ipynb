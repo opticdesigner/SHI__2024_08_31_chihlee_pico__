{
 "cells": [
  {
   "cell_type": "code",
   "execution_count": 2,
   "metadata": {},
   "outputs": [
    {
     "name": "stdout",
     "output_type": "stream",
     "text": [
      "可以考駕照\n",
      "應用程式結束\n"
     ]
    }
   ],
   "source": [
    "#if\n",
    "age = 19\n",
    "if age < 18:\n",
    "    print(\"不可以考駕照\")\n",
    "else:\n",
    "    print(\"可以考駕照\")\n",
    "print(\"應用程式結束\")"
   ]
  },
  {
   "cell_type": "code",
   "execution_count": 11,
   "metadata": {},
   "outputs": [
    {
     "name": "stdout",
     "output_type": "stream",
     "text": [
      "學生分數是250\n"
     ]
    }
   ],
   "source": [
    "#學生總分為300\n",
    "#有些學生可以加分5%\n",
    "\n",
    "score = int(input(\"請輸入學生分數(最高300分):\"))\n",
    "is_add = input(\"學生是否符合加分條件?(y,n)\")\n",
    "\n",
    "if is_add == 'y':\n",
    "    score *= 1.05\n",
    "\n",
    "#print('學生分數是' + str(score))\n",
    "print(f'學生分數是{score}')"
   ]
  }
 ],
 "metadata": {
  "kernelspec": {
   "display_name": "venv1",
   "language": "python",
   "name": "python3"
  },
  "language_info": {
   "codemirror_mode": {
    "name": "ipython",
    "version": 3
   },
   "file_extension": ".py",
   "mimetype": "text/x-python",
   "name": "python",
   "nbconvert_exporter": "python",
   "pygments_lexer": "ipython3",
   "version": "3.11.9"
  }
 },
 "nbformat": 4,
 "nbformat_minor": 2
}
